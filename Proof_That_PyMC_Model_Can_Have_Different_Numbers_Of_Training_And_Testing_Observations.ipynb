{
 "cells": [
  {
   "cell_type": "markdown",
   "metadata": {},
   "source": [
    "https://www.pymc.io/projects/docs/en/stable/learn/core_notebooks/posterior_predictive.html"
   ]
  },
  {
   "cell_type": "code",
   "execution_count": null,
   "metadata": {},
   "outputs": [],
   "source": [
    "import arviz as az\n",
    "import matplotlib.pyplot as plt\n",
    "import numpy as np\n",
    "import pymc as pm\n",
    "import xarray as xr\n",
    "\n",
    "from scipy.special import expit as logistic\n",
    "\n",
    "\n",
    "print(f\"Running on PyMC v{pm.__version__}\")"
   ]
  },
  {
   "cell_type": "code",
   "execution_count": null,
   "metadata": {},
   "outputs": [],
   "source": [
    "az.style.use(\"arviz-darkgrid\")\n",
    "\n",
    "RANDOM_SEED = 58\n",
    "rng = np.random.default_rng(RANDOM_SEED)\n",
    "\n",
    "\n",
    "def standardize(series):\n",
    "    \"\"\"Standardize a pandas series\"\"\"\n",
    "    return (series - series.mean()) / series.std()"
   ]
  },
  {
   "cell_type": "code",
   "execution_count": null,
   "metadata": {},
   "outputs": [],
   "source": [
    "N = 400\n",
    "true_intercept = 0.2\n",
    "true_slope = 1.0\n",
    "predictors = rng.normal(size = N)\n",
    "true_p = logistic(true_intercept + true_slope * predictors)\n",
    "\n",
    "outcomes = rng.binomial(1, true_p)\n",
    "outcomes[:10]"
   ]
  },
  {
   "cell_type": "code",
   "execution_count": null,
   "metadata": {},
   "outputs": [],
   "source": [
    "with pm.Model() as model_2:\n",
    "    betas = pm.Normal(\"betas\", mu=0.0, sigma=np.array([0.5, 1.0]), shape=2)\n",
    "\n",
    "    # set predictors as shared variable to change them for PPCs:\n",
    "    pred = pm.MutableData(\"pred\", predictors, dims=\"obs_id\")\n",
    "    p = pm.Deterministic(\"p\", pm.math.invlogit(betas[0] + betas[1] * pred), dims=\"obs_id\")\n",
    "\n",
    "    outcome = pm.Bernoulli(\"outcome\", p=p, observed=outcomes, dims=\"obs_id\")\n",
    "\n",
    "    idata_2 = pm.sample(1000, tune=2000, return_inferencedata=True, random_seed=rng)\n",
    "az.summary(idata_2, var_names=[\"betas\"], round_to=2)"
   ]
  },
  {
   "cell_type": "code",
   "execution_count": null,
   "metadata": {},
   "outputs": [],
   "source": [
    "predictors_out_of_sample = rng.normal(size=50)\n",
    "outcomes_out_of_sample = rng.binomial(\n",
    "    1, logistic(true_intercept + true_slope * predictors_out_of_sample)\n",
    ")\n",
    "\n",
    "with model_2:\n",
    "    # update values of predictors:\n",
    "    pm.set_data({\"pred\": predictors_out_of_sample})\n",
    "    # use the updated values and predict outcomes and probabilities:\n",
    "    idata_2 = pm.sample_posterior_predictive(\n",
    "        idata_2,\n",
    "        var_names=[\"p\"],\n",
    "        return_inferencedata=True,\n",
    "        predictions=True,\n",
    "        extend_inferencedata=True,\n",
    "        random_seed=rng,\n",
    "    )"
   ]
  },
  {
   "cell_type": "code",
   "execution_count": null,
   "metadata": {},
   "outputs": [],
   "source": [
    "_, ax = plt.subplots(figsize=(12, 6))\n",
    "\n",
    "preds_out_of_sample = idata_2.predictions_constant_data.sortby(\"pred\")[\"pred\"]\n",
    "model_preds = idata_2.predictions.sortby(preds_out_of_sample)\n",
    "\n",
    "# uncertainty about the estimates:\n",
    "ax.vlines(\n",
    "    preds_out_of_sample,\n",
    "    *az.hdi(model_preds)[\"p\"].transpose(\"hdi\", ...),\n",
    "    alpha=0.8,\n",
    ")\n",
    "# expected probability of success:\n",
    "ax.plot(\n",
    "    preds_out_of_sample,\n",
    "    model_preds[\"p\"].mean((\"chain\", \"draw\")),\n",
    "    \"o\",\n",
    "    ms=5,\n",
    "    color=\"C1\",\n",
    "    alpha=0.8,\n",
    "    label=\"Expected prob.\",\n",
    ")\n",
    "\n",
    "# actual outcomes:\n",
    "ax.scatter(\n",
    "    x=predictors_out_of_sample,\n",
    "    y=outcomes_out_of_sample,\n",
    "    marker=\"x\",\n",
    "    color=\"k\",\n",
    "    alpha=0.8,\n",
    "    label=\"Observed outcomes\",\n",
    ")\n",
    "# true probabilities:\n",
    "x = np.linspace(predictors_out_of_sample.min() - 0.1, predictors_out_of_sample.max() + 0.1)\n",
    "ax.plot(\n",
    "    x,\n",
    "    logistic(true_intercept + true_slope * x),\n",
    "    lw=2,\n",
    "    ls=\"--\",\n",
    "    color=\"#565C6C\",\n",
    "    alpha=0.8,\n",
    "    label=\"True prob.\",\n",
    ")\n",
    "\n",
    "ax.set_xlabel(\"Predictor\")\n",
    "ax.set_ylabel(\"Prob. of success\")\n",
    "ax.set_title(\"Out-of-sample Predictions\")\n",
    "ax.legend(fontsize=10, frameon=True, framealpha=0.5);"
   ]
  }
 ],
 "metadata": {
  "kernelspec": {
   "display_name": "Python 3",
   "language": "python",
   "name": "python3"
  },
  "language_info": {
   "codemirror_mode": {
    "name": "ipython",
    "version": 3
   },
   "file_extension": ".py",
   "mimetype": "text/x-python",
   "name": "python",
   "nbconvert_exporter": "python",
   "pygments_lexer": "ipython3",
   "version": "3.11.3"
  }
 },
 "nbformat": 4,
 "nbformat_minor": 4
}
